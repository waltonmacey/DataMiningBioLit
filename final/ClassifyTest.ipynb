{
 "cells": [
  {
   "cell_type": "code",
   "execution_count": 24,
   "metadata": {
    "collapsed": true,
    "deletable": true,
    "editable": true
   },
   "outputs": [],
   "source": [
    "import json\n",
    "from pprint import pprint\n",
    "\n",
    "with open('molecbio.json') as data_file:    \n",
    "    data = json.load(data_file)\n"
   ]
  },
  {
   "cell_type": "code",
   "execution_count": 2,
   "metadata": {
    "collapsed": false,
    "deletable": true,
    "editable": true,
    "scrolled": true
   },
   "outputs": [
    {
     "data": {
      "text/plain": [
       "10432"
      ]
     },
     "execution_count": 2,
     "metadata": {},
     "output_type": "execute_result"
    }
   ],
   "source": [
    "\n",
    "def splitDatabySent(paragraph):\n",
    "    import re\n",
    "    # to split by multile characters\n",
    "    #   regular expressions are easiest (and fastest)\n",
    "    sentenceEnders = re.compile('[.!?]')\n",
    "    sentenceList = sentenceEnders.split(paragraph)\n",
    "    return sentenceList\n",
    "\n",
    "allSentences = []\n",
    "for key, value in data.items():\n",
    "    sentences = splitDatabySent(value)\n",
    "    for s in sentences:\n",
    "        allSentences.append(s)\n",
    "len(allSentences)"
   ]
  },
  {
   "cell_type": "code",
   "execution_count": 4,
   "metadata": {
    "collapsed": false,
    "deletable": true,
    "editable": true
   },
   "outputs": [
    {
     "data": {
      "text/plain": [
       "8919"
      ]
     },
     "execution_count": 4,
     "metadata": {},
     "output_type": "execute_result"
    }
   ],
   "source": [
    "with open('molecdyn.json') as data_file:    \n",
    "    data2 = json.load(data_file)\n",
    "\n",
    "allSentences2 = []\n",
    "for key, value in data2.items():\n",
    "    sentences2 = splitDatabySent(value)\n",
    "    for s2 in sentences2:\n",
    "        allSentences2.append(s2)\n",
    "        \n",
    "len(allSentences2)"
   ]
  },
  {
   "cell_type": "code",
   "execution_count": 5,
   "metadata": {
    "collapsed": false,
    "deletable": true,
    "editable": true
   },
   "outputs": [],
   "source": [
    "from textblob.classifiers import NaiveBayesClassifier\n"
   ]
  },
  {
   "cell_type": "code",
   "execution_count": 6,
   "metadata": {
    "collapsed": false,
    "deletable": true,
    "editable": true
   },
   "outputs": [],
   "source": [
    "with open('trainMB.csv', 'r') as fp:\n",
    "    cl = NaiveBayesClassifier(fp, format=\"csv\")"
   ]
  },
  {
   "cell_type": "code",
   "execution_count": 7,
   "metadata": {
    "collapsed": false,
    "deletable": true,
    "editable": true
   },
   "outputs": [
    {
     "data": {
      "text/plain": [
       "u'None'"
      ]
     },
     "execution_count": 7,
     "metadata": {},
     "output_type": "execute_result"
    }
   ],
   "source": [
    "cl.classify(\"The 14 associated behaviors and speech disfluency types were further reduced to form three related indices: (a) Sound Prolongation Index, (b) Nonspeech Behavior Index, and (c) Behavioral Variety Index\")"
   ]
  },
  {
   "cell_type": "code",
   "execution_count": 8,
   "metadata": {
    "collapsed": false,
    "deletable": true,
    "editable": true
   },
   "outputs": [
    {
     "data": {
      "text/plain": [
       "u'Findings'"
      ]
     },
     "execution_count": 8,
     "metadata": {},
     "output_type": "execute_result"
    }
   ],
   "source": [
    "cl.classify(\"Results indicated that five subgroups of young stutterers could be identified and described on the basis of these youngsters' number and variety of speech and nonspeech behaviors associated with their stuttering\")"
   ]
  },
  {
   "cell_type": "code",
   "execution_count": 9,
   "metadata": {
    "collapsed": false,
    "deletable": true,
    "editable": true
   },
   "outputs": [
    {
     "data": {
      "text/plain": [
       "u'None'"
      ]
     },
     "execution_count": 9,
     "metadata": {},
     "output_type": "execute_result"
    }
   ],
   "source": [
    "cl.classify('aCPU algorithm program processor software simulation computer and stuff simulation biomedical data and stuff')"
   ]
  },
  {
   "cell_type": "code",
   "execution_count": 10,
   "metadata": {
    "collapsed": true,
    "deletable": true,
    "editable": true
   },
   "outputs": [],
   "source": [
    "with open('trainMB2.csv', 'r') as fp:\n",
    "    cl2 = NaiveBayesClassifier(fp, format=\"csv\")"
   ]
  },
  {
   "cell_type": "code",
   "execution_count": 11,
   "metadata": {
    "collapsed": false,
    "deletable": true,
    "editable": true
   },
   "outputs": [
    {
     "data": {
      "text/plain": [
       "u'Findings'"
      ]
     },
     "execution_count": 11,
     "metadata": {},
     "output_type": "execute_result"
    }
   ],
   "source": [
    "cl2.classify(\"The 14 associated behaviors and speech disfluency types were further reduced to form three related indices: (a) Sound Prolongation Index, (b) Nonspeech Behavior Index, and (c) Behavioral Variety Index\")"
   ]
  },
  {
   "cell_type": "code",
   "execution_count": 12,
   "metadata": {
    "collapsed": false,
    "deletable": true,
    "editable": true
   },
   "outputs": [
    {
     "data": {
      "text/plain": [
       "u'Findings'"
      ]
     },
     "execution_count": 12,
     "metadata": {},
     "output_type": "execute_result"
    }
   ],
   "source": [
    "cl2.classify(\"Results indicated that five subgroups of young stutterers could be identified and described on the basis of these youngsters' number and variety of speech and nonspeech behaviors associated with their stuttering\")"
   ]
  },
  {
   "cell_type": "code",
   "execution_count": 13,
   "metadata": {
    "collapsed": false,
    "deletable": true,
    "editable": true
   },
   "outputs": [
    {
     "data": {
      "text/plain": [
       "u'Findings'"
      ]
     },
     "execution_count": 13,
     "metadata": {},
     "output_type": "execute_result"
    }
   ],
   "source": [
    "cl2.classify('CPU algorithm program processor software simulation computer and stuff simulation biomedical data and stuff')"
   ]
  },
  {
   "cell_type": "code",
   "execution_count": 22,
   "metadata": {
    "collapsed": false,
    "deletable": true,
    "editable": true
   },
   "outputs": [
    {
     "name": "stdout",
     "output_type": "stream",
     "text": [
      "Facilitation of yolk-sac carcinoma (YSCa) development in fetectomized rats by the Moloney murine sarcoma virus/murine leukemia virus (Mo-MSV/MLV) complex was found to be closely associated with the presence of Mo-MSV sequences in the genomes of the YSCa cells\n",
      "None\n",
      " The virus-induced YSCas consisted of cells of mono- or oligoclonal origin which always contained in their genomes at least I randomly integrated Mo-MSV provirus\n",
      "None\n",
      " In YSCas which developed in the absence of virus, no rearrangement or amplification of c-mos could be detected\n",
      "None\n",
      " In addition, blot hybridization analysis of cellular RNA failed to detect mos-related RNA in cell lines derived from Mo-MSV-induced as well as from non-virally induced YSCas\n",
      "Findings\n",
      " The methylation level of c-mos DNA was low in all YSCa cell lines\n",
      "None\n",
      " In contrast, v-mos DNA in cell lines derived from Mo-MSV-induced YSCas was heavily methylated\n",
      "None\n",
      "\n",
      "None\n",
      "The authors report a case of floating left atrial thrombus, detected by transthoracic echocardiography, in a 63 years old patient with moderate mitral stenosis and atrial fibrillation\n",
      "None\n",
      " He was admitted to hospital, with supraventricular tachyarrhythmia and pulmonary edema\n",
      "None\n",
      " There was no previous syncope or thromboembolism episodes\n",
      "None\n",
      " Apparently the anticoagulant therapy wasn't interrupted\n",
      "None\n",
      " The diagnosis of the free floating left atrial thrombus was made by two-dimensional echocardiography\n",
      "None\n",
      " Predisposing factors, clinical course and echocardiographic diagnosis are discussed\n",
      "None\n",
      " The risk of prolonged engagement of the thrombus in the mitral orifice, causing syncope or sudden death, justifies urgent surgery associating thrombectomy and treatment of mitral stenosis\n",
      "None\n",
      "\n",
      "None\n",
      "The in vitro activity of LY146032, a new cyclic lipopeptide antibiotic, was compared with those of vancomycin, teicoplanin, and either oxacillin or ampicillin by determining agar dilution MIC values for 304 clinical gram-positive isolates\n",
      "None\n",
      " LY146032 had superior in vitro activity against oxacillin-resistant staphylococci when compared to vancomycin or teicoplanin\n",
      "None\n",
      " Against oxacillin-sensitive staphylococci, group JK-diphtheroids, streptococci, Listeria monocytogenes and Clostridium difficile, LY146032 was equally or less active than vancomycin, teicoplanin, or the penicillins tested\n",
      "None\n",
      " When tested by macrobroth dilution MIC/MBC, LY146032 showed good bactericidal activity against all organisms with the exception of Clostridium difficile\n",
      "Findings\n",
      "\n",
      "None\n",
      "The 19,000 Mr C-terminal domain of the Escherichia coli ada gene product that contains O6-methylguanine-DNA methyltransferase DNA repair activity has been crystallized in a low-salt environment\n",
      "None\n",
      " The crystals, which diffract to 2\n",
      "None\n",
      "3 A (1 A = 0\n",
      "None\n",
      "1 nm), are suitable for detailed structural studies\n",
      "None\n",
      " The space group is P21 with unit cell dimensions a = 46\n",
      "None\n",
      "3 A, b = 45\n",
      "None\n",
      "8 A, c = 46\n",
      "None\n"
     ]
    }
   ],
   "source": [
    "\n",
    "for i in range(0,27):\n",
    "    print(allSentences[i])\n",
    "    print(cl.classify(allSentences[i]))"
   ]
  },
  {
   "cell_type": "code",
   "execution_count": 23,
   "metadata": {
    "collapsed": false,
    "deletable": true,
    "editable": true
   },
   "outputs": [
    {
     "name": "stdout",
     "output_type": "stream",
     "text": [
      "Facilitation of yolk-sac carcinoma (YSCa) development in fetectomized rats by the Moloney murine sarcoma virus/murine leukemia virus (Mo-MSV/MLV) complex was found to be closely associated with the presence of Mo-MSV sequences in the genomes of the YSCa cells\n",
      "Findings\n",
      " The virus-induced YSCas consisted of cells of mono- or oligoclonal origin which always contained in their genomes at least I randomly integrated Mo-MSV provirus\n",
      "Findings\n",
      " In YSCas which developed in the absence of virus, no rearrangement or amplification of c-mos could be detected\n",
      "Findings\n",
      " In addition, blot hybridization analysis of cellular RNA failed to detect mos-related RNA in cell lines derived from Mo-MSV-induced as well as from non-virally induced YSCas\n",
      "Findings\n",
      " The methylation level of c-mos DNA was low in all YSCa cell lines\n",
      "Findings\n",
      " In contrast, v-mos DNA in cell lines derived from Mo-MSV-induced YSCas was heavily methylated\n",
      "Findings\n",
      "\n",
      "Findings\n",
      "The authors report a case of floating left atrial thrombus, detected by transthoracic echocardiography, in a 63 years old patient with moderate mitral stenosis and atrial fibrillation\n",
      "Findings\n",
      " He was admitted to hospital, with supraventricular tachyarrhythmia and pulmonary edema\n",
      "Findings\n",
      " There was no previous syncope or thromboembolism episodes\n",
      "Findings\n",
      " Apparently the anticoagulant therapy wasn't interrupted\n",
      "Findings\n",
      " The diagnosis of the free floating left atrial thrombus was made by two-dimensional echocardiography\n",
      "Findings\n",
      " Predisposing factors, clinical course and echocardiographic diagnosis are discussed\n",
      "Findings\n",
      " The risk of prolonged engagement of the thrombus in the mitral orifice, causing syncope or sudden death, justifies urgent surgery associating thrombectomy and treatment of mitral stenosis\n",
      "Findings\n",
      "\n",
      "Findings\n",
      "The in vitro activity of LY146032, a new cyclic lipopeptide antibiotic, was compared with those of vancomycin, teicoplanin, and either oxacillin or ampicillin by determining agar dilution MIC values for 304 clinical gram-positive isolates\n",
      "Findings\n",
      " LY146032 had superior in vitro activity against oxacillin-resistant staphylococci when compared to vancomycin or teicoplanin\n",
      "Findings\n",
      " Against oxacillin-sensitive staphylococci, group JK-diphtheroids, streptococci, Listeria monocytogenes and Clostridium difficile, LY146032 was equally or less active than vancomycin, teicoplanin, or the penicillins tested\n",
      "Findings\n",
      " When tested by macrobroth dilution MIC/MBC, LY146032 showed good bactericidal activity against all organisms with the exception of Clostridium difficile\n",
      "Findings\n",
      "\n",
      "Findings\n",
      "The 19,000 Mr C-terminal domain of the Escherichia coli ada gene product that contains O6-methylguanine-DNA methyltransferase DNA repair activity has been crystallized in a low-salt environment\n",
      "Findings\n",
      " The crystals, which diffract to 2\n",
      "Findings\n",
      "3 A (1 A = 0\n",
      "Method\n",
      "1 nm), are suitable for detailed structural studies\n",
      "Findings\n",
      " The space group is P21 with unit cell dimensions a = 46\n",
      "Findings\n",
      "3 A, b = 45\n",
      "Method\n",
      "8 A, c = 46\n",
      "Data\n"
     ]
    }
   ],
   "source": [
    "for i in range(0,27):\n",
    "    print(allSentences[i])\n",
    "    print(cl2.classify(allSentences[i]))"
   ]
  },
  {
   "cell_type": "code",
   "execution_count": null,
   "metadata": {
    "collapsed": true,
    "deletable": true,
    "editable": true
   },
   "outputs": [],
   "source": []
  }
 ],
 "metadata": {
  "kernelspec": {
   "display_name": "Python 2",
   "language": "python",
   "name": "python2"
  },
  "language_info": {
   "codemirror_mode": {
    "name": "ipython",
    "version": 2
   },
   "file_extension": ".py",
   "mimetype": "text/x-python",
   "name": "python",
   "nbconvert_exporter": "python",
   "pygments_lexer": "ipython2",
   "version": "2.7.12"
  }
 },
 "nbformat": 4,
 "nbformat_minor": 2
}
